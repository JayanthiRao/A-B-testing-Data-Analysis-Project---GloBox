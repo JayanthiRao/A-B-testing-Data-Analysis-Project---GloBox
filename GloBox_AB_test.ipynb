{
  "metadata": {
    "toc-showcode": false,
    "language_info": {
      "codemirror_mode": {
        "name": "python",
        "version": 3
      },
      "file_extension": ".py",
      "mimetype": "text/x-python",
      "name": "python",
      "nbconvert_exporter": "python",
      "pygments_lexer": "ipython3",
      "version": "3.8"
    },
    "kernelspec": {
      "name": "python",
      "display_name": "Python (Pyodide)",
      "language": "python"
    }
  },
  "nbformat_minor": 4,
  "nbformat": 4,
  "cells": [
    {
      "cell_type": "code",
      "source": "import pandas as pd                 #import libraries\nimport matplotlib.pyplot as plt\nimport numpy as np\nimport math\nfrom scipy.stats import ttest_ind\ndf = pd.read_csv('query_results.csv')    #reading csv file",
      "metadata": {
        "tags": [],
        "trusted": true
      },
      "execution_count": 106,
      "outputs": []
    },
    {
      "cell_type": "code",
      "source": "print(df)   #print dataframe",
      "metadata": {
        "trusted": true
      },
      "execution_count": 107,
      "outputs": [
        {
          "name": "stdout",
          "text": "            id country gender group     join_dt device   dt  spent\n0      1000000     CAN      M     B  2023-01-28      I  NaN    NaN\n1      1000001     BRA      M     A  2023-01-27      A  NaN    NaN\n2      1000002     FRA      M     A  2023-02-01      A  NaN    NaN\n3      1000003     BRA      M     B  2023-01-25      I  NaN    NaN\n4      1000004     DEU      F     A  2023-02-04      A  NaN    NaN\n...        ...     ...    ...   ...         ...    ...  ...    ...\n49077  1049995     BRA      F     B  2023-02-03      A  NaN    NaN\n49078  1049996     USA      F     A  2023-01-29      A  NaN    NaN\n49079  1049997     BRA      M     B  2023-02-03      A  NaN    NaN\n49080  1049998     CAN      M     B  2023-02-03      I  NaN    NaN\n49081  1049999     GBR      M     B  2023-01-29      I  NaN    NaN\n\n[49082 rows x 8 columns]\n",
          "output_type": "stream"
        }
      ]
    },
    {
      "cell_type": "code",
      "source": "df['spent'].fillna(0, inplace=True)       #replacing null values with 0 in spent column",
      "metadata": {
        "trusted": true
      },
      "execution_count": 108,
      "outputs": []
    },
    {
      "cell_type": "code",
      "source": "df_updated = df.pivot_table(index = ['id','group'], values = 'spent', aggfunc = 'sum').reset_index()  #use pivot table to group the id's and groups\nprint(df_updated)",
      "metadata": {
        "trusted": true
      },
      "execution_count": 109,
      "outputs": [
        {
          "name": "stdout",
          "text": "            id group  spent\n0      1000000     B    0.0\n1      1000001     A    0.0\n2      1000002     A    0.0\n3      1000003     B    0.0\n4      1000004     A    0.0\n...        ...   ...    ...\n48938  1049995     B    0.0\n48939  1049996     A    0.0\n48940  1049997     B    0.0\n48941  1049998     B    0.0\n48942  1049999     B    0.0\n\n[48943 rows x 3 columns]\n",
          "output_type": "stream"
        }
      ]
    },
    {
      "cell_type": "code",
      "source": "filtered_df_a = df_updated.query(\"group =='A'\")     #filter dataframe for group A\nprint(filtered_df_a)",
      "metadata": {
        "trusted": true
      },
      "execution_count": 110,
      "outputs": [
        {
          "name": "stdout",
          "text": "            id group  spent\n1      1000001     A    0.0\n2      1000002     A    0.0\n4      1000004     A    0.0\n7      1000007     A    0.0\n8      1000008     A    0.0\n...        ...   ...    ...\n48930  1049987     A    0.0\n48932  1049989     A    0.0\n48936  1049993     A    0.0\n48937  1049994     A    0.0\n48939  1049996     A    0.0\n\n[24343 rows x 3 columns]\n",
          "output_type": "stream"
        }
      ]
    },
    {
      "cell_type": "code",
      "source": "filtered_df_b = df_updated.query(\"group =='B'\")       #filter dataframe for group B\nprint(filtered_df_b)",
      "metadata": {
        "trusted": true
      },
      "execution_count": 111,
      "outputs": [
        {
          "name": "stdout",
          "text": "            id group  spent\n0      1000000     B    0.0\n3      1000003     B    0.0\n5      1000005     B    0.0\n6      1000006     B    0.0\n10     1000010     B    0.0\n...        ...   ...    ...\n48935  1049992     B    0.0\n48938  1049995     B    0.0\n48940  1049997     B    0.0\n48941  1049998     B    0.0\n48942  1049999     B    0.0\n\n[24600 rows x 3 columns]\n",
          "output_type": "stream"
        }
      ]
    },
    {
      "cell_type": "code",
      "source": "avg_spent_a = filtered_df_a['spent'].mean()    #average amount spent per user group A\nprint(avg_spent_a)",
      "metadata": {
        "trusted": true
      },
      "execution_count": 112,
      "outputs": [
        {
          "name": "stdout",
          "text": "3.374518467928841\n",
          "output_type": "stream"
        }
      ]
    },
    {
      "cell_type": "code",
      "source": "avg_spent_b = filtered_df_b['spent'].mean()     #average amount spent per user group B\nprint(avg_spent_b)",
      "metadata": {
        "trusted": true
      },
      "execution_count": 113,
      "outputs": [
        {
          "name": "stdout",
          "text": "3.390866945885783\n",
          "output_type": "stream"
        }
      ]
    },
    {
      "cell_type": "code",
      "source": "std_dev_a = filtered_df_a['spent'].std()       #std dev of amount spent per user group A\nprint(std_dev_a)",
      "metadata": {
        "trusted": true
      },
      "execution_count": 114,
      "outputs": [
        {
          "name": "stdout",
          "text": "25.93639055722059\n",
          "output_type": "stream"
        }
      ]
    },
    {
      "cell_type": "code",
      "source": "std_dev_b = filtered_df_b['spent'].std()       #std dev of amount spent per user group B\nprint(std_dev_b)",
      "metadata": {
        "trusted": true
      },
      "execution_count": 115,
      "outputs": [
        {
          "name": "stdout",
          "text": "25.414109599225664\n",
          "output_type": "stream"
        }
      ]
    },
    {
      "cell_type": "code",
      "source": "t=1.960              #critical value at 0.05 significance level\n\nmargin_of_error_a = t*std_dev_a/math.sqrt(len(filtered_df_a))       #margin of error for average amount spent per user for Group A \nprint(margin_of_error_a)",
      "metadata": {
        "trusted": true
      },
      "execution_count": 116,
      "outputs": [
        {
          "name": "stdout",
          "text": "0.3258206149989957\n",
          "output_type": "stream"
        }
      ]
    },
    {
      "cell_type": "code",
      "source": "upper_bound_avg_a = avg_spent_a + margin_of_error_a\nprint(upper_bound_avg_a)",
      "metadata": {
        "trusted": true
      },
      "execution_count": 117,
      "outputs": [
        {
          "name": "stdout",
          "text": "3.7003390829278366\n",
          "output_type": "stream"
        }
      ]
    },
    {
      "cell_type": "code",
      "source": "lower_bound_avg_a = avg_spent_a - margin_of_error_a\nprint(lower_bound_avg_a)",
      "metadata": {
        "trusted": true
      },
      "execution_count": 118,
      "outputs": [
        {
          "name": "stdout",
          "text": "3.0486978529298456\n",
          "output_type": "stream"
        }
      ]
    },
    {
      "cell_type": "code",
      "source": "margin_of_error_b = t*std_dev_b/math.sqrt(len(filtered_df_b))       #margin of error for average amount spent per user for group B \nprint(margin_of_error_b)",
      "metadata": {
        "trusted": true
      },
      "execution_count": 119,
      "outputs": [
        {
          "name": "stdout",
          "text": "0.3175875114886324\n",
          "output_type": "stream"
        }
      ]
    },
    {
      "cell_type": "code",
      "source": "upper_bound_avg_b = avg_spent_b + margin_of_error_b\nprint(upper_bound_avg_b)",
      "metadata": {
        "trusted": true
      },
      "execution_count": 120,
      "outputs": [
        {
          "name": "stdout",
          "text": "3.7084544573744154\n",
          "output_type": "stream"
        }
      ]
    },
    {
      "cell_type": "code",
      "source": "lower_bound_avg_b = avg_spent_b - margin_of_error_b\nprint(lower_bound_avg_b)",
      "metadata": {
        "trusted": true
      },
      "execution_count": 121,
      "outputs": [
        {
          "name": "stdout",
          "text": "3.0732794343971506\n",
          "output_type": "stream"
        }
      ]
    },
    {
      "cell_type": "code",
      "source": "result = ttest_ind(filtered_df_b['spent'],filtered_df_a['spent'])      # t test for average amount spent per user in both groups\nprint(result)",
      "metadata": {
        "trusted": true
      },
      "execution_count": 122,
      "outputs": [
        {
          "name": "stdout",
          "text": "Ttest_indResult(statistic=0.07043243220818624, pvalue=0.9438497659410893)\n",
          "output_type": "stream"
        }
      ]
    },
    {
      "cell_type": "code",
      "source": "se = np.sqrt((std_dev_a**2/len(filtered_df_a))+(std_dev_b**2/len(filtered_df_b)))           #std error for difference in average\nprint(se)",
      "metadata": {
        "trusted": true
      },
      "execution_count": 123,
      "outputs": [
        {
          "name": "stdout",
          "text": "0.23214055875284387\n",
          "output_type": "stream"
        }
      ]
    },
    {
      "cell_type": "code",
      "source": "tstat = (avg_spent_b-avg_spent_a)/se\nprint(tstat)",
      "metadata": {
        "trusted": true
      },
      "execution_count": 124,
      "outputs": [
        {
          "name": "stdout",
          "text": "0.07042490999751483\n",
          "output_type": "stream"
        }
      ]
    },
    {
      "cell_type": "code",
      "source": "diff_avg_spent = avg_spent_b-avg_spent_a          #difference in average\nupper_bound_diff = diff_avg_spent + t * se\nlower_bound_diff = diff_avg_spent -t * se\nprint(lower_bound_diff, upper_bound_diff)",
      "metadata": {
        "trusted": true
      },
      "execution_count": 125,
      "outputs": [
        {
          "name": "stdout",
          "text": "-0.43864701719863214 0.4713439731125158\n",
          "output_type": "stream"
        }
      ]
    },
    {
      "cell_type": "code",
      "source": "conversion_a = len(filtered_df_a[filtered_df_a['spent']!=0])/len(filtered_df_a)       #conversion rate of group A\nprint(conversion_a)",
      "metadata": {
        "trusted": true
      },
      "execution_count": 126,
      "outputs": [
        {
          "name": "stdout",
          "text": "0.03923099042845993\n",
          "output_type": "stream"
        }
      ]
    },
    {
      "cell_type": "code",
      "source": "conversion_b = len(filtered_df_b[filtered_df_b['spent']!=0])/len(filtered_df_b)      #conversion rate of group B\nprint(conversion_b)",
      "metadata": {
        "trusted": true
      },
      "execution_count": 127,
      "outputs": [
        {
          "name": "stdout",
          "text": "0.04630081300813008\n",
          "output_type": "stream"
        }
      ]
    },
    {
      "cell_type": "code",
      "source": "filtered_df_a.loc[filtered_df_a['spent'] !=0, 'converted_a'] = 1      #creating a new column in the dataset to get who have be converted and not\nfiltered_df_a.loc[filtered_df_a['spent'] ==0, 'converted_a'] = 0\n\nprint(filtered_df_a.reset_index(drop=True))",
      "metadata": {
        "trusted": true
      },
      "execution_count": 152,
      "outputs": [
        {
          "name": "stdout",
          "text": "            id group  spent  converted_a\n0      1000001     A    0.0          0.0\n1      1000002     A    0.0          0.0\n2      1000004     A    0.0          0.0\n3      1000007     A    0.0          0.0\n4      1000008     A    0.0          0.0\n...        ...   ...    ...          ...\n24338  1049987     A    0.0          0.0\n24339  1049989     A    0.0          0.0\n24340  1049993     A    0.0          0.0\n24341  1049994     A    0.0          0.0\n24342  1049996     A    0.0          0.0\n\n[24343 rows x 4 columns]\n",
          "output_type": "stream"
        }
      ]
    },
    {
      "cell_type": "code",
      "source": "filtered_df_b.loc[filtered_df_b['spent'] !=0, 'converted_b'] = 1         #creating a new column in the dataset to get who have be converted and not\nfiltered_df_b.loc[filtered_df_b['spent'] ==0, 'converted_b'] = 0\n\nprint(filtered_df_b.reset_index(drop=True))",
      "metadata": {
        "trusted": true
      },
      "execution_count": 153,
      "outputs": [
        {
          "name": "stdout",
          "text": "            id group  spent  converted_b\n0      1000000     B    0.0          0.0\n1      1000003     B    0.0          0.0\n2      1000005     B    0.0          0.0\n3      1000006     B    0.0          0.0\n4      1000010     B    0.0          0.0\n...        ...   ...    ...          ...\n24595  1049992     B    0.0          0.0\n24596  1049995     B    0.0          0.0\n24597  1049997     B    0.0          0.0\n24598  1049998     B    0.0          0.0\n24599  1049999     B    0.0          0.0\n\n[24600 rows x 4 columns]\n",
          "output_type": "stream"
        }
      ]
    },
    {
      "cell_type": "code",
      "source": "std_converted_a = filtered_df_a['converted_a'].std()    #std dev of conversion of group A\nprint(std_converted_a)",
      "metadata": {
        "trusted": true
      },
      "execution_count": 130,
      "outputs": [
        {
          "name": "stdout",
          "text": "0.19414805754879985\n",
          "output_type": "stream"
        }
      ]
    },
    {
      "cell_type": "code",
      "source": "std_converted_b = filtered_df_b['converted_b'].std()    #std dev of conversion of group B\nprint(std_converted_b)",
      "metadata": {
        "trusted": true
      },
      "execution_count": 131,
      "outputs": [
        {
          "name": "stdout",
          "text": "0.2101400551961162\n",
          "output_type": "stream"
        }
      ]
    },
    {
      "cell_type": "code",
      "source": "se_conv_a = np.sqrt(conversion_a*(1-conversion_a)/len(filtered_df_a))\nprint(se_conv_a)",
      "metadata": {
        "trusted": true
      },
      "execution_count": 132,
      "outputs": [
        {
          "name": "stdout",
          "text": "0.001244334320502947\n",
          "output_type": "stream"
        }
      ]
    },
    {
      "cell_type": "code",
      "source": "se_conv_b = np.sqrt(conversion_b*(1-conversion_b)/len(filtered_df_b))\nprint(se_conv_b)",
      "metadata": {
        "trusted": true
      },
      "execution_count": 133,
      "outputs": [
        {
          "name": "stdout",
          "text": "0.0013397768246823593\n",
          "output_type": "stream"
        }
      ]
    },
    {
      "cell_type": "code",
      "source": "z=1.96\nmoe_conv_a = z * se_conv_a\nprint(moe_conv_a)",
      "metadata": {
        "trusted": true
      },
      "execution_count": 134,
      "outputs": [
        {
          "name": "stdout",
          "text": "0.002438895268185776\n",
          "output_type": "stream"
        }
      ]
    },
    {
      "cell_type": "code",
      "source": "upper_bound_conversion_a = conversion_a + moe_conv_a\nprint(upper_bound_conversion_a)",
      "metadata": {
        "trusted": true
      },
      "execution_count": 135,
      "outputs": [
        {
          "name": "stdout",
          "text": "0.0416698856966457\n",
          "output_type": "stream"
        }
      ]
    },
    {
      "cell_type": "code",
      "source": "lower_bound_conversion_a = conversion_a - moe_conv_a\nprint(lower_bound_conversion_a)",
      "metadata": {
        "trusted": true
      },
      "execution_count": 136,
      "outputs": [
        {
          "name": "stdout",
          "text": "0.03679209516027415\n",
          "output_type": "stream"
        }
      ]
    },
    {
      "cell_type": "code",
      "source": "moe_conv_b = z * se_conv_b\nprint(moe_conv_b)",
      "metadata": {
        "trusted": true
      },
      "execution_count": 137,
      "outputs": [
        {
          "name": "stdout",
          "text": "0.002625962576377424\n",
          "output_type": "stream"
        }
      ]
    },
    {
      "cell_type": "code",
      "source": "upper_bound_conversion_b = conversion_b + moe_conv_b\nprint(upper_bound_conversion_b)",
      "metadata": {
        "trusted": true
      },
      "execution_count": 138,
      "outputs": [
        {
          "name": "stdout",
          "text": "0.048926775584507504\n",
          "output_type": "stream"
        }
      ]
    },
    {
      "cell_type": "code",
      "source": "lower_bound_conversion_b = conversion_b - moe_conv_b\nprint(lower_bound_conversion_b)",
      "metadata": {
        "trusted": true
      },
      "execution_count": 139,
      "outputs": [
        {
          "name": "stdout",
          "text": "0.04367485043175266\n",
          "output_type": "stream"
        }
      ]
    },
    {
      "cell_type": "code",
      "source": "#pooled proportion\npooled_prop= (len(filtered_df_a[filtered_df_a['spent']!=0])+len(filtered_df_b[filtered_df_b['spent']!=0]))/(len(filtered_df_a)+len(filtered_df_b))\nprint(pooled_prop)",
      "metadata": {
        "trusted": true
      },
      "execution_count": 140,
      "outputs": [
        {
          "name": "stdout",
          "text": "0.04278446355965102\n",
          "output_type": "stream"
        }
      ]
    },
    {
      "cell_type": "code",
      "source": "se_pooled_prop = math.sqrt((pooled_prop*(1-pooled_prop)/len(filtered_df_a))+(pooled_prop*(1-pooled_prop)/len(filtered_df_b)))\nprint(se_pooled_prop)",
      "metadata": {
        "trusted": true
      },
      "execution_count": 141,
      "outputs": [
        {
          "name": "stdout",
          "text": "0.001829526081285274\n",
          "output_type": "stream"
        }
      ]
    },
    {
      "cell_type": "code",
      "source": "z_pooled_stat = (conversion_a -conversion_b)/se_pooled_prop       #z statistic for pooled proportion\nprint(z_pooled_stat)",
      "metadata": {
        "trusted": true
      },
      "execution_count": 142,
      "outputs": [
        {
          "name": "stdout",
          "text": "-3.864291770414927\n",
          "output_type": "stream"
        }
      ]
    },
    {
      "cell_type": "code",
      "source": "from scipy.stats import norm\np_value = 2*(1-norm.cdf(abs(z_pooled_stat)))\nprint(\"p-value: {:.6f}\".format(p_value))",
      "metadata": {
        "trusted": true
      },
      "execution_count": 143,
      "outputs": [
        {
          "name": "stdout",
          "text": "p-value: 0.000111\n",
          "output_type": "stream"
        }
      ]
    },
    {
      "cell_type": "code",
      "source": "result_conv= ttest_ind(filtered_df_b['converted_b'], filtered_df_a['converted_a'])\nprint(result_conv)",
      "metadata": {
        "trusted": true
      },
      "execution_count": 144,
      "outputs": [
        {
          "name": "stdout",
          "text": "Ttest_indResult(statistic=3.864802444795058, pvalue=0.00011132252128659755)\n",
          "output_type": "stream"
        }
      ]
    },
    {
      "cell_type": "code",
      "source": "se_diff_conv = math.sqrt(se_conv_a**2 +se_conv_b**2)     #std error of the conversion rate for both groups\nprint(se_diff_conv)",
      "metadata": {
        "trusted": true
      },
      "execution_count": 145,
      "outputs": [
        {
          "name": "stdout",
          "text": "0.0018284884033368863\n",
          "output_type": "stream"
        }
      ]
    },
    {
      "cell_type": "code",
      "source": "point_est_diff_conv = conversion_b - conversion_a    #difference in conversion\nprint(point_est_diff_conv)",
      "metadata": {
        "trusted": true
      },
      "execution_count": 146,
      "outputs": [
        {
          "name": "stdout",
          "text": "0.0070698225796701555\n",
          "output_type": "stream"
        }
      ]
    },
    {
      "cell_type": "code",
      "source": "z1=1.96      #critical value z\nmoe_diff_conv = z1 * se_diff_conv      #margin of error for difference in conversion\nprint(moe_diff_conv)",
      "metadata": {
        "trusted": true
      },
      "execution_count": 147,
      "outputs": [
        {
          "name": "stdout",
          "text": "0.003583837270540297\n",
          "output_type": "stream"
        }
      ]
    },
    {
      "cell_type": "code",
      "source": "upper_bound_diff_conv = point_est_diff_conv + moe_diff_conv\nlower_bound_diff_conv = point_est_diff_conv - moe_diff_conv\nprint(lower_bound_diff_conv, upper_bound_diff_conv)",
      "metadata": {
        "trusted": true
      },
      "execution_count": 148,
      "outputs": [
        {
          "name": "stdout",
          "text": "0.0034859853091298585 0.010653659850210453\n",
          "output_type": "stream"
        }
      ]
    },
    {
      "cell_type": "code",
      "source": "dict_of_lists = { 'groups': ['group A', 'group B'],\n                   'avg_spent_per_user':[avg_spent_a, avg_spent_b],\n                   'std_dev_avg' : [std_dev_a, std_dev_b],\n                  'total_users' :[len(filtered_df_a), len(filtered_df_b)],\n                   'conversion_rate': [conversion_a, conversion_b],\n                   'std_converted':[std_converted_a, std_converted_b],\n                   'upper_bound_avg': [upper_bound_avg_a,upper_bound_avg_b],\n                   'lower_bound_avg':[lower_bound_avg_a,lower_bound_avg_b],\n                'upper_bound_conv':[upper_bound_conversion_a,upper_bound_conversion_b],\n                'lower_bound_cov':[lower_bound_conversion_a,lower_bound_conversion_b]}\nfinal_table = pd.DataFrame(dict_of_lists)\nfinal_table",
      "metadata": {
        "trusted": true
      },
      "execution_count": 149,
      "outputs": [
        {
          "execution_count": 149,
          "output_type": "execute_result",
          "data": {
            "text/plain": "    groups  avg_spent_per_user  std_dev_avg  total_users  conversion_rate  \\\n0  group A            3.374518    25.936391        24343         0.039231   \n1  group B            3.390867    25.414110        24600         0.046301   \n\n   std_converted  upper_bound_avg  lower_bound_avg  upper_bound_conv  \\\n0       0.194148         3.700339         3.048698          0.041670   \n1       0.210140         3.708454         3.073279          0.048927   \n\n   lower_bound_cov  \n0         0.036792  \n1         0.043675  ",
            "text/html": "<div>\n<style scoped>\n    .dataframe tbody tr th:only-of-type {\n        vertical-align: middle;\n    }\n\n    .dataframe tbody tr th {\n        vertical-align: top;\n    }\n\n    .dataframe thead th {\n        text-align: right;\n    }\n</style>\n<table border=\"1\" class=\"dataframe\">\n  <thead>\n    <tr style=\"text-align: right;\">\n      <th></th>\n      <th>groups</th>\n      <th>avg_spent_per_user</th>\n      <th>std_dev_avg</th>\n      <th>total_users</th>\n      <th>conversion_rate</th>\n      <th>std_converted</th>\n      <th>upper_bound_avg</th>\n      <th>lower_bound_avg</th>\n      <th>upper_bound_conv</th>\n      <th>lower_bound_cov</th>\n    </tr>\n  </thead>\n  <tbody>\n    <tr>\n      <th>0</th>\n      <td>group A</td>\n      <td>3.374518</td>\n      <td>25.936391</td>\n      <td>24343</td>\n      <td>0.039231</td>\n      <td>0.194148</td>\n      <td>3.700339</td>\n      <td>3.048698</td>\n      <td>0.041670</td>\n      <td>0.036792</td>\n    </tr>\n    <tr>\n      <th>1</th>\n      <td>group B</td>\n      <td>3.390867</td>\n      <td>25.414110</td>\n      <td>24600</td>\n      <td>0.046301</td>\n      <td>0.210140</td>\n      <td>3.708454</td>\n      <td>3.073279</td>\n      <td>0.048927</td>\n      <td>0.043675</td>\n    </tr>\n  </tbody>\n</table>\n</div>"
          },
          "metadata": {}
        }
      ]
    },
    {
      "cell_type": "code",
      "source": "final_table.to_csv('dict_of_lists.csv', index=False)\n",
      "metadata": {
        "trusted": true
      },
      "execution_count": 150,
      "outputs": []
    },
    {
      "cell_type": "code",
      "source": "df.to_csv('dataframe.csv', index=False)",
      "metadata": {
        "trusted": true
      },
      "execution_count": 151,
      "outputs": []
    }
  ]
}